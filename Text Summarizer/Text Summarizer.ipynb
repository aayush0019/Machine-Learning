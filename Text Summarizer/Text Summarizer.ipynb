{
 "cells": [
  {
   "cell_type": "code",
   "execution_count": 1,
   "metadata": {},
   "outputs": [],
   "source": [
    "from bs4 import BeautifulSoup\n",
    "from urllib.request import Request,urlopen\n",
    "from nltk.tokenize import sent_tokenize\n",
    "import numpy as np\n",
    "import pandas as pd\n",
    "from nltk.corpus import stopwords\n",
    "from sklearn.metrics.pairwise import cosine_similarity\n",
    "import networkx as nx"
   ]
  },
  {
   "cell_type": "code",
   "execution_count": 2,
   "metadata": {},
   "outputs": [],
   "source": [
    "def get_only_text(url):\n",
    "    \"\"\" \n",
    "    return the title and the text of the article\n",
    "    at the specified url\n",
    "    \"\"\"\n",
    "    \n",
    "    hdr = {'User-Agent': 'Mozilla/5.0'}\n",
    "    req = Request(url,headers=hdr)\n",
    "    page = urlopen(req)\n",
    "    soup = BeautifulSoup(page, \"lxml\")\n",
    "    text = ' '.join(map(lambda p: p.text, soup.find_all('p')))\n",
    "  \n",
    "    print (\"=====================\")\n",
    "    print (text)\n",
    "    print (\"=====================\")\n",
    " \n",
    "    return soup.title.text, text    \n",
    " \n",
    "     \n"
   ]
  },
  {
   "cell_type": "code",
   "execution_count": 3,
   "metadata": {},
   "outputs": [
    {
     "name": "stdout",
     "output_type": "stream",
     "text": [
      "=====================\n",
      "Three Indian companies have got licences from NASA to manufacture its indigenously developed ventilators for critical COVID-19 patients. The three Indian companies are Alpha Design Technologies Pvt Ltd, Bharat Forge Ltd and Medha Servo Drives Pvt Ltd, the space organisation said in a statement on Friday. Also read: Coronavirus | U.S. to donate ventilators to India: Donald Trump  Apart from the Indian firms, 18 other companies, including eight American and three Brazilian, have been selected to manufacture the critical breathing devices.  The National Aeronautics and Space Administration (NASA) developed the ventilator specifically for coronavirus patients at its Jet Propulsion Laboratory (JLP) in Southern California.  The JPL engineers designed the special ventilator— called VITAL — in little over a month and received ‘Emergency Use Authorization’ from the Food and Drug Administration on April 30.  The VITAL (Ventilator Intervention Technology Accessible Locally) equipment uses one-seventh the parts of a traditional ventilator, relying on parts already available in supply chains, the space organisation said.  This high-pressure ventilator offers a simple, affordable option for treating critical patients while freeing up traditional ventilators for those with the most severe COVID-19 symptoms. Its flexible design means it also can be modified for use in field hospitals, the NASA statement read. “The VITAL team is very excited to see their technology licenced,” said Leon Alkalai, manager of the JPL Office of Strategic Partnerships. “Our hope is to have this technology reach across the world and provide an additional source of solutions to deal with the on-going COVID-19 crisis,” he said.  NASA said VITAL was developed with input from doctors and medical device manufacturers.  A prototype of the JPL device was successfully tested by the Human Simulation Lab in the Department of Anesthesiology, Perioperative and Pain Medicine at Mount Sinai on April 23.  A modified design, which uses compressed air and can be deployed by a greater range of hospitals, was recently tested at the UCLA Simulation Center in Los Angeles.  A high-fidelity lung simulator tested almost 20 different ventilator settings, representing a number of scenarios that could be seen in critically ill patients in an intensive care unit, it said. “VITAL performed well in simulation testing with both precise and reproducible results,” said Dr Tisha Wang, clinical chief of the UCLA Division of Pulmonary and Critical Care Medicine. “In addition, the setup and operation of the ventilator was quick and user-friendly. The UCLA team commends JPL for actively contributing to the COVID-19 response and successfully addressing one of the key medical needs in the sickest group of patients,” a media statement said. You have reached your limit for free articles this month.  Already have an account ? Sign in\n",
      " Start your 14 days free trial. Sign Up Find mobile-friendly version of articles from the day's newspaper in one easy-to-read list. Enjoy reading as many articles as you wish without any limitations. A select list of articles that match your interests and tastes. Move smoothly between articles as our pages load instantly. A one-stop-shop for seeing the latest updates, and managing your preferences. We brief you on the latest and most important developments, three times a day. \n",
      "*Our Digital Subscription plans do not currently include the e-paper, crossword and print.\n",
      " Dear reader, We have been keeping you up-to-date with information on the developments in India and the world that have a bearing on our health and wellbeing, our lives and livelihoods, during these difficult times. To enable wide dissemination of news that is in public interest, we have increased the number of articles that can be read free, and extended free trial periods. However, we have a request for those who can afford to subscribe: please do. As we fight disinformation and misinformation, and keep apace with the happenings, we need to commit greater resources to news gathering operations. We promise to deliver quality journalism that stays away from vested interest and political propaganda. Dear subscriber, Thank you! Your support for our journalism is invaluable. It’s a support for truth and fairness in journalism. It has helped us keep apace with events and happenings. The Hindu has always stood for journalism that is in the public interest. At this difficult time, it becomes even more important that we have access to information that has a bearing on our health and well-being, our lives, and livelihoods. As a subscriber, you are not only a beneficiary of our work but also its enabler. We also reiterate here the promise that our team of reporters, copy editors, fact-checkers, designers, and photographers will deliver quality journalism that stays away from vested interest and political propaganda. Suresh Nambath Please enter a valid email address. \n",
      "Printable version | Dec 17, 2020 10:07:51 PM | https://www.thehindu.com/news/national/three-indian-companies-get-licence-to-manufacture-nasas-ventilators-for-covid-19-patients/article31708809.ece\n",
      " \n",
      "© THG PUBLISHING PVT LTD.\n",
      " \n",
      "Precursor chemicals formed the bulk in last financial year\n",
      " \n",
      "Funds provided by e-committee of Supreme Court and Department of Justice in Law Ministry\n",
      " \n",
      "Subscribe to The Hindu now and get unlimited access.\n",
      " Already have an account? Sign In  \n",
      "Start your 14 days free trial\n",
      "Sign Up You can support quality journalism by turning off ad blocker or purchase a subscription for unlimited access to The Hindu.  Sign up for a 30 day free trial.\n",
      "=====================\n"
     ]
    }
   ],
   "source": [
    "url=\"https://www.thehindu.com/news/national/three-indian-companies-get-licence-to-manufacture-nasas-ventilators-for-covid-19-patients/article31708809.ece\"\n",
    "text = get_only_text(url)"
   ]
  },
  {
   "cell_type": "code",
   "execution_count": 4,
   "metadata": {},
   "outputs": [
    {
     "name": "stderr",
     "output_type": "stream",
     "text": [
      "[nltk_data] Downloading package punkt to\n",
      "[nltk_data]     C:\\Users\\aayus\\AppData\\Roaming\\nltk_data...\n",
      "[nltk_data]   Package punkt is already up-to-date!\n"
     ]
    },
    {
     "data": {
      "text/plain": [
       "True"
      ]
     },
     "execution_count": 4,
     "metadata": {},
     "output_type": "execute_result"
    }
   ],
   "source": [
    "import nltk\n",
    "nltk.download('punkt')\n",
    "  \n",
    " "
   ]
  },
  {
   "cell_type": "code",
   "execution_count": 5,
   "metadata": {},
   "outputs": [
    {
     "data": {
      "text/plain": [
       "['“Our hope is to have this technology reach across the world and provide an additional source of solutions to deal with the on-going COVID-19 crisis,” he said.',\n",
       " 'NASA said VITAL was developed with input from doctors and medical device manufacturers.',\n",
       " 'A prototype of the JPL device was successfully tested by the Human Simulation Lab in the Department of Anesthesiology, Perioperative and Pain Medicine at Mount Sinai on April 23.',\n",
       " 'A modified design, which uses compressed air and can be deployed by a greater range of hospitals, was recently tested at the UCLA Simulation Center in Los Angeles.',\n",
       " 'A high-fidelity lung simulator tested almost 20 different ventilator settings, representing a number of scenarios that could be seen in critically ill patients in an intensive care unit, it said.',\n",
       " '“VITAL performed well in simulation testing with both precise and reproducible results,” said Dr Tisha Wang, clinical chief of the UCLA Division of Pulmonary and Critical Care Medicine.',\n",
       " '“In addition, the setup and operation of the ventilator was quick and user-friendly.',\n",
       " 'The UCLA team commends JPL for actively contributing to the COVID-19 response and successfully addressing one of the key medical needs in the sickest group of patients,” a media statement said.',\n",
       " 'You have reached your limit for free articles this month.',\n",
       " 'Already have an account ?']"
      ]
     },
     "execution_count": 5,
     "metadata": {},
     "output_type": "execute_result"
    }
   ],
   "source": [
    "sentences = []\n",
    "for s in text:\n",
    "    sentences.append(sent_tokenize(s))\n",
    "\n",
    "sentences = [y for x in sentences for y in x]\n",
    "sentences[10:20]"
   ]
  },
  {
   "cell_type": "code",
   "execution_count": 6,
   "metadata": {},
   "outputs": [],
   "source": [
    "# Extract word vectors\n",
    "word_embeddings = {}\n",
    "f = open('glove.6B.100d.txt', encoding='utf-8')\n",
    "for line in f:\n",
    "    values = line.split()\n",
    "    word = values[0]\n",
    "    coefs = np.asarray(values[1:], dtype='float32')\n",
    "    word_embeddings[word] = coefs\n",
    "f.close()"
   ]
  },
  {
   "cell_type": "code",
   "execution_count": 7,
   "metadata": {},
   "outputs": [
    {
     "data": {
      "text/plain": [
       "400000"
      ]
     },
     "execution_count": 7,
     "metadata": {},
     "output_type": "execute_result"
    }
   ],
   "source": [
    "len(word_embeddings)"
   ]
  },
  {
   "cell_type": "code",
   "execution_count": 8,
   "metadata": {},
   "outputs": [
    {
     "name": "stderr",
     "output_type": "stream",
     "text": [
      "[nltk_data] Downloading package stopwords to\n",
      "[nltk_data]     C:\\Users\\aayus\\AppData\\Roaming\\nltk_data...\n",
      "[nltk_data]   Package stopwords is already up-to-date!\n"
     ]
    },
    {
     "data": {
      "text/plain": [
       "True"
      ]
     },
     "execution_count": 8,
     "metadata": {},
     "output_type": "execute_result"
    }
   ],
   "source": [
    " import nltk\n",
    "nltk.download('stopwords')"
   ]
  },
  {
   "cell_type": "code",
   "execution_count": 9,
   "metadata": {},
   "outputs": [],
   "source": [
    "# remove punctuations, numbers and special characters\n",
    "clean_sentences = pd.Series(sentences).str.replace(\"[^a-zA-Z]\", \" \")\n",
    "\n",
    "# change to lowercase\n",
    "clean_sentences = [s.lower() for s in clean_sentences]\n",
    "stop_words = stopwords.words('english')\n",
    "# function to remove stopwords\n",
    "def remove_stopwords(sen):\n",
    "    sen_new = \" \".join([i for i in sen if i not in stop_words])\n",
    "    return sen_new\n",
    "clean_sentences = [remove_stopwords(r.split()) for r in clean_sentences]"
   ]
  },
  {
   "cell_type": "code",
   "execution_count": 10,
   "metadata": {},
   "outputs": [],
   "source": [
    "sentence_vectors = []\n",
    "for i in clean_sentences:\n",
    "    if len(i) != 0:\n",
    "        v = sum([word_embeddings.get(w, np.zeros((100,))) for w in i.split()])/(len(i.split())+0.001)\n",
    "    else:\n",
    "        v = np.zeros((100,))\n",
    "    sentence_vectors.append(v)"
   ]
  },
  {
   "cell_type": "code",
   "execution_count": 11,
   "metadata": {},
   "outputs": [],
   "source": [
    "# Create an empty similarity matrix\n",
    "sim_mat = np.zeros([len(sentences), len(sentences)])"
   ]
  },
  {
   "cell_type": "code",
   "execution_count": 12,
   "metadata": {},
   "outputs": [],
   "source": [
    "for i in range(len(sentences)):\n",
    "    for j in range(len(sentences)):\n",
    "        if i != j:\n",
    "            sim_mat[i][j] = cosine_similarity(sentence_vectors[i].reshape(1,100), sentence_vectors[j].reshape(1,100))[0,0]\n"
   ]
  },
  {
   "cell_type": "code",
   "execution_count": 13,
   "metadata": {},
   "outputs": [
    {
     "name": "stdout",
     "output_type": "stream",
     "text": [
      "“Our hope is to have this technology reach across the world and provide an additional source of solutions to deal with the on-going COVID-19 crisis,” he said.\n",
      "At this difficult time, it becomes even more important that we have access to information that has a bearing on our health and well-being, our lives, and livelihoods.\n",
      "Sign In  \n",
      "Start your 14 days free trial\n",
      "Sign Up You can support quality journalism by turning off ad blocker or purchase a subscription for unlimited access to The Hindu.\n",
      "To enable wide dissemination of news that is in public interest, we have increased the number of articles that can be read free, and extended free trial periods.\n",
      "Its flexible design means it also can be modified for use in field hospitals, the NASA statement read.\n",
      "Printable version | Dec 17, 2020 10:07:51 PM | https://www.thehindu.com/news/national/three-indian-companies-get-licence-to-manufacture-nasas-ventilators-for-covid-19-patients/article31708809.ece\n",
      " \n",
      "© THG PUBLISHING PVT LTD.\n",
      " \n",
      "Precursor chemicals formed the bulk in last financial year\n",
      " \n",
      "Funds provided by e-committee of Supreme Court and Department of Justice in Law Ministry\n",
      " \n",
      "Subscribe to The Hindu now and get unlimited access.\n",
      "Sign Up Find mobile-friendly version of articles from the day's newspaper in one easy-to-read list.\n",
      "We also reiterate here the promise that our team of reporters, copy editors, fact-checkers, designers, and photographers will deliver quality journalism that stays away from vested interest and political propaganda.\n",
      "The UCLA team commends JPL for actively contributing to the COVID-19 response and successfully addressing one of the key medical needs in the sickest group of patients,” a media statement said.\n",
      "The VITAL (Ventilator Intervention Technology Accessible Locally) equipment uses one-seventh the parts of a traditional ventilator, relying on parts already available in supply chains, the space organisation said.\n"
     ]
    }
   ],
   "source": [
    "nx_graph = nx.from_numpy_array(sim_mat)\n",
    "scores = nx.pagerank(nx_graph)\n",
    "ranked_sentences = sorted(((scores[i],s) for i,s in enumerate(sentences)), reverse=True)\n",
    "# Extract top 15 sentences as the summary representation\n",
    "for i in range(10):\n",
    "    print(ranked_sentences[i][1])"
   ]
  },
  {
   "cell_type": "code",
   "execution_count": 14,
   "metadata": {},
   "outputs": [],
   "source": [
    "import logging\n",
    "logging.basicConfig(format='%(asctime)s : %(levelname)s : %(message)s', level=logging.INFO)\n",
    "from gensim.summarization import summarize\n",
    "from gensim.summarization import keywords\n",
    "import urllib.request\n",
    "from urllib.request import urlopen\n",
    "from bs4 import BeautifulSoup\n",
    "import requests"
   ]
  },
  {
   "cell_type": "code",
   "execution_count": 15,
   "metadata": {},
   "outputs": [
    {
     "name": "stdout",
     "output_type": "stream",
     "text": [
      "Requirement already up-to-date: gensim in d:\\anaconda3\\lib\\site-packages (3.8.3)\n",
      "Requirement already satisfied, skipping upgrade: six>=1.5.0 in d:\\anaconda3\\lib\\site-packages (from gensim) (1.12.0)\n",
      "Requirement already satisfied, skipping upgrade: smart-open>=1.8.1 in d:\\anaconda3\\lib\\site-packages (from gensim) (4.0.1)\n",
      "Requirement already satisfied, skipping upgrade: Cython==0.29.14 in d:\\anaconda3\\lib\\site-packages (from gensim) (0.29.14)\n",
      "Requirement already satisfied, skipping upgrade: numpy>=1.11.3 in d:\\anaconda3\\lib\\site-packages (from gensim) (1.18.4)\n",
      "Requirement already satisfied, skipping upgrade: scipy>=0.18.1 in d:\\anaconda3\\lib\\site-packages (from gensim) (1.1.0)\n"
     ]
    },
    {
     "name": "stderr",
     "output_type": "stream",
     "text": [
      "WARNING: You are using pip version 20.1.1; however, version 20.3.3 is available.\n",
      "You should consider upgrading via the 'D:\\Anaconda3\\python.exe -m pip install --upgrade pip' command.\n"
     ]
    }
   ],
   "source": [
    "!python -m pip install -U gensim"
   ]
  },
  {
   "cell_type": "code",
   "execution_count": 16,
   "metadata": {},
   "outputs": [
    {
     "name": "stdout",
     "output_type": "stream",
     "text": [
      "Summary:\n"
     ]
    },
    {
     "name": "stderr",
     "output_type": "stream",
     "text": [
      "2020-12-17 22:26:33,561 : INFO : adding document #0 to Dictionary(0 unique tokens: [])\n",
      "2020-12-17 22:26:33,598 : INFO : built Dictionary(2322 unique tokens: ['compani', 'covid', 'hindu', 'indian', 'licenc']...) from 5211 documents (total 21915 corpus positions)\n",
      "2020-12-17 22:26:33,617 : INFO : Building graph\n",
      "2020-12-17 22:26:33,620 : INFO : Filling graph\n",
      "2020-12-17 22:26:35,631 : INFO : PROGRESS: processing 1000/2425 doc (25 non zero elements)\n",
      "2020-12-17 22:26:37,501 : INFO : PROGRESS: processing 2000/2425 doc (22 non zero elements)\n",
      "2020-12-17 22:26:38,231 : INFO : Removing unreachable nodes of graph\n",
      "2020-12-17 22:26:38,237 : INFO : Pagerank graph\n",
      "2020-12-17 22:26:39,432 : INFO : Sorting pagerank scores\n"
     ]
    },
    {
     "name": "stdout",
     "output_type": "stream",
     "text": [
      "\"@id\": \"https://www.thehindu.com/news/national/three-indian-companies-get-licence-to-manufacture-nasas-ventilators-for-covid-19-patients/article31708809.ece\"\n",
      "html{-ms-text-size-adjust:100%;-webkit-text-size-adjust:100%}body{margin:0}aside,header,nav,section{display:block}a{background-color:transparent}img{border:0}hr{-webkit-box-sizing:content-box;-moz-box-sizing:content-box;box-sizing:content-box;height:0}button,input{color:inherit;font:inherit;margin:0}button{overflow:visible}button{text-transform:none}button{-webkit-appearance:button}button::-moz-focus-inner,input::-moz-focus-inner{border:0;padding:0}input{line-height:normal}*{-webkit-box-sizing:border-box;-moz-box-sizing:border-box;box-sizing:border-box}*:before,*:after{-webkit-box-sizing:border-box;-moz-box-sizing:border-box;box-sizing:border-box}input,button{font-family:inherit;font-size:inherit;line-height:inherit}img{vertical-align:middle}.container{margin-right:auto;margin-left:auto;padding-left:10px;padding-right:10px}@media(min-width:768px){.container{width:750px}}@media(min-width:1024px){.container{width:1000px}}@media(min-width:1280px){.container{width:1000px}}@media(min-width:1600px){.container{width:1260px}}.row{margin-left:-10px;margin-right:-10px}.col-md-2,.col-lg-2,.col-sm-3,.col-sm-9,.col-xs-12,.col-sm-12,.col-md-12,.col-lg-12{position:relative;min-height:1px;padding-left:10px;padding-right:10px}.col-xs-12{float:left}.col-xs-12{width:100%}@media(min-width:768px){.col-sm-3,.col-sm-9,.col-sm-12{float:left}.col-sm-12{width:100%}.col-sm-9{width:75%}.col-sm-3{width:25%}}@media(min-width:1024px){.col-md-2,.col-md-12{float:left}.col-md-12{width:100%}.col-md-2{width:16.66666667%}}@media(min-width:1600px){.col-lg-2,.col-lg-12{float:left}.col-lg-12{width:100%}.col-lg-2{width:16.66666667%}}@media(max-width:767px){.hidden-xs{display:none!important}.col-md-2,.col-lg-2,.col-sm-3,.col-sm-9,.col-xs-12,.col-sm-12,.col-md-12,.col-lg-12{padding-left:0;padding-right:0}}@media(min-width:768px) and (max-width:1023px){.hidden-sm{display:none!important}}@media(min-width:1024px) and (max-width:1599px){.hidden-md{display:none!important}}@media(min-width:1600px){.hidden-lg{display:none!important}}header.article-header-cont{min-height:188px;margin-bottom:10px}.sticky-article-heading{display:none}.sticky-article-heading .logo-sq{width:40px;top:-10px;position:relative;float:left;margin-right:10px;margin-left:5px}.article-header-cont .sticky-article-heading .artcl-social-media{float:right;width:auto!important;background:#f5f5f5;height:40px;position:absolute;top:0;right:0;padding:10px 0 0 0}.article-header-cont .sticky-article-heading .artcl-social-media::before{content:\"\";width:190px;height:40px;position:absolute;left:-190px;top:0;background:rgba(255,255,255,0);background:-moz-linear-gradient(left,rgba(255,255,255,0) 0,rgba(252,252,252,0.69) 35%,rgba(249,249,249,1) 64%,rgba(245,245,245,1) 100%);background:-webkit-gradient(left top,right top,color-stop(0%,rgba(255,255,255,0)),color-stop(35%,rgba(252,252,252,0.69)),color-stop(64%,rgba(249,249,249,1)),color-stop(100%,rgba(245,245,245,1)));background:-webkit-linear-gradient(left,rgba(255,255,255,0) 0,rgba(252,252,252,0.69) 35%,rgba(249,249,249,1) 64%,rgba(245,245,245,1) 100%);background:-o-linear-gradient(left,rgba(255,255,255,0) 0,rgba(252,252,252,0.69) 35%,rgba(249,249,249,1) 64%,rgba(245,245,245,1) 100%);background:-ms-linear-gradient(left,rgba(255,255,255,0) 0,rgba(252,252,252,0.69) 35%,rgba(249,249,249,1) 64%,rgba(245,245,245,1) 100%);background:linear-gradient(to right,rgba(255,255,255,0) 0,rgba(252,252,252,0.69) 35%,rgba(249,249,249,1) 64%,rgba(245,245,245,1) 100%);filter:progid:DXImageTransform.Microsoft.gradient(startColorstr='#ffffff',endColorstr='#f5f5f5',GradientType=1)}header.article-header-cont nav.main-menu{border:0}.article-header-cont .small-logo{width:250px}.article-header-cont .small-logo{float:left;top:3px;position:relative}.article-header-cont div.socialize{float:right}.article-header-cont div.search-block{float:right;position:relative;top:1px}.article-header-cont div.search-block input[type=\"text\"]{border:0}.article-sub-header{position:relative}.article-sub-header .city-menu-1,.article-sub-header .city-menu-2{height:25px!important}.article-sub-header .city-menu-2{position:absolute!important;right:0!important;top:0!important;overflow:hidden;margin:0!important;padding:4px 0 0 10px!important}.intro{font-family:\"Fira Sans\",sans-serif!important;font-weight:600;font-size:19px;color:#133b5a!important;line-height:24px;padding-bottom:15px;border-bottom:1px solid #d1ced2;margin-bottom:15px}aside{float:right}.article::after{content:\"\";width:920px;height:100%;display:block;position:absolute;top:0;left:0;z-index:-1;background:white}.article-cont p{font-family:\"TundraWeb\",serif;font-size:18px;color:#282828;line-height:26px;margin:0 0 10px 300px;width:600px;font-weight:normal!important;font-style:normal!important}h1,h2,h3{font-weight:normal;font-style:normal}.article h1{color:#282828;font-family:\"TundraWeb\",serif;padding:15px 30px 0;width:920px;line-height:36px;letter-spacing:-0.5px}.article h2{font-family:\"Fira Sans\",sans-serif;font-weight:600;font-size:20px;margin:18px 0 10px 300px;color:#133b5a;line-height:25px;padding:0;width:600px}.lead-img-cont{width:920px;height:auto;margin:10px 0 20px 0;position:relative;z-index:1}.lead-img-cont img{width:100%;height:auto}span.lead-img-caption{position:absolute;bottom:0;padding:10px 20px;left:0;z-index:2;display:block;width:100%;height:auto}span.lead-img-caption p{margin:0;padding:20px 0 0;color:white;font-family:\"Fira Sans\",sans-serif;font-size:11px;line-height:12px;width:100%}span.lead-img-caption::before{content:\"\";display:block;height:100%;min-height:30px;position:absolute;bottom:0;left:0;width:100%;z-index:-1;background:-moz-linear-gradient(top,rgba(0,0,0,0) 0,rgba(0,0,0,0) 0,rgba(44,44,44,0) 0,rgba(71,71,71,0) 0,rgba(102,102,102,0) 0,rgba(89,89,89,0) 0,rgba(17,17,17,0) 0,rgba(28,28,28,0) 0,rgba(32,32,32,0.9) 35%,rgba(40,40,40,1) 100%);background:-webkit-gradient(left top,left bottom,color-stop(0%,rgba(0,0,0,0)),color-stop(0%,rgba(0,0,0,0)),color-stop(0%,rgba(44,44,44,0)),color-stop(0%,rgba(71,71,71,0)),color-stop(0%,rgba(102,102,102,0)),color-stop(0%,rgba(89,89,89,0)),color-stop(0%,rgba(17,17,17,0)),color-stop(0%,rgba(28,28,28,0)),color-stop(35%,rgba(32,32,32,0.9)),color-stop(100%,rgba(40,40,40,1)));background:-webkit-linear-gradient(top,rgba(0,0,0,0) 0,rgba(0,0,0,0) 0,rgba(44,44,44,0) 0,rgba(71,71,71,0) 0,rgba(102,102,102,0) 0,rgba(89,89,89,0) 0,rgba(17,17,17,0) 0,rgba(28,28,28,0) 0,rgba(32,32,32,0.9) 35%,rgba(40,40,40,1) 100%);background:-o-linear-gradient(top,rgba(0,0,0,0) 0,rgba(0,0,0,0) 0,rgba(44,44,44,0) 0,rgba(71,71,71,0) 0,rgba(102,102,102,0) 0,rgba(89,89,89,0) 0,rgba(17,17,17,0) 0,rgba(28,28,28,0) 0,rgba(32,32,32,0.9) 35%,rgba(40,40,40,1) 100%);background:-ms-linear-gradient(top,rgba(0,0,0,0) 0,rgba(0,0,0,0) 0,rgba(44,44,44,0) 0,rgba(71,71,71,0) 0,rgba(102,102,102,0) 0,rgba(89,89,89,0) 0,rgba(17,17,17,0) 0,rgba(28,28,28,0) 0,rgba(32,32,32,0.9) 35%,rgba(40,40,40,1) 100%);background:linear-gradient(to bottom,rgba(0,0,0,0) 0,rgba(0,0,0,0) 0,rgba(44,44,44,0) 0,rgba(71,71,71,0) 0,rgba(102,102,102,0) 0,rgba(89,89,89,0) 0,rgba(17,17,17,0) 0,rgba(28,28,28,0) 0,rgba(32,32,32,0.9) 35%,rgba(40,40,40,1) 100%);filter:progid:DXImageTransform.Microsoft.gradient(startColorstr='#000000',endColorstr='#282828',GradientType=0)}span.lead-img-caption a{color:white;text-decoration:underline;position:relative;left:0;top:0}.article{height:auto;display:block;position:relative;padding-bottom:25px;margin-bottom:20px;float:left}.article-exclusive{padding-left:30px;padding-top:15px;display:block;width:920px;margin-bottom:-10px}.exclusive{text-transform:uppercase;font-size:12px;line-height:14px;letter-spacing:.85px;font-family:\"Fira Sans\",sans-serif;font-weight:600;padding-left:0}.author-container{width:920px;background-color:#fff;padding:0 30px;display:table;margin:15px 0}.author-img-name{float:left;margin-right:10px;overflow:hidden}.auth-img{width:60px;height:60px;float:left;margin-right:8px;border-radius:100%;overflow:hidden}.auth-nm{font-size:16px;line-height:18px;color:#133b5a;float:left;font-family:\"Fira Sans\",sans-serif;font-weight:600;margin:3px 0 0 0}.ut-container{float:right;text-align:right;text-transform:uppercase}.update-time{font-size:10px;font-family:\"Fira Sans\",sans-serif;font-weight:600;line-height:12px;letter-spacing:.69px;text-align:right;margin-top:5px;display:block!important}.update-time{display:block;margin-top:0!important}.artcl-social-media{max-width:920px;height:26px;line-height:26px;padding-left:30px;margin-bottom:10px}.share-artcl{float:left;font-size:10px;padding:0 20px 0 0;letter-spacing:.9px;text-transform:uppercase;color:#828282;font-family:\"Fira Sans\",sans-serif;font-weight:600}.artcl-social-media ul{margin:0;padding:0}.artcl-social-media ul li{display:inline-block;float:left;position:relative;border-left:1px solid #d1ced2}.artcl-social-media ul li a{padding:0 13px;text-transform:uppercase;color:#828282}.artcl-social-media ul li a i.fa{margin-right:7px;font-size:13.85px}.fb{color:#3b5998}.wa{color:#43d854}.tw{color:#55acee}.in{color:#0077b5}.en{color:#133b5a}.ad-container{max-width:920px;margin-bottom:0;height:auto;margin:0 auto;text-align:center;background-color:#faf9f6;color:#828282;position:relative}.article-topics-container{float:left;margin:8px 20px -3px 30px;max-width:150px}.author-bottom{display:table;border-top:1px solid #d1ced2;margin:0 30px 10px 30px;max-width:860px}.auth-bt-cont{padding:0;width:860px}.post-comment{display:inline-block;background-color:#2a5e88;border-radius:2px;line-height:17px;font-size:14px;font-family:\"Fira Sans\",sans-serif;color:#fff;float:right;padding:7px 9px 6px 9px}.print{font-size:14px;color:#282828!important}.edite-text-cont{float:right}.large-text,.medium-text,.small-text{font-family:\"TundraWeb\",serif;padding:2px 6px!important;border-right:1px solid #282828!important;color:#282828!important}.small-text{font-size:14px;line-height:22px}.medium-text{font-size:18px;line-height:26px}.large-text{font-size:22px;line-height:30px;border-right:none!important}.article-header-cont .sticky-article-heading .artcl-nm-stky-text{font-family:\"TundraWeb\",serif;font-size:16px;line-height:20px;margin:0;padding:0;color:#282828;float:left;top:2px;position:relative;width:80%;height:20px;overflow:hidden}.art_sub_head-gradient:after{width:40%;height:100%;position:absolute;content:\"\";top:0;right:0;background:-moz-linear-gradient(left,rgba(245,245,245,0) 0,rgba(245,245,245,0.85) 51%,rgba(245,245,245,1) 70%,rgba(245,245,245,1) 100%);background:-webkit-gradient(left top,right top,color-stop(0%,rgba(245,245,245,0)),color-stop(51%,rgba(245,245,245,0.85)),color-stop(70%,rgba(245,245,245,1)),color-stop(100%,rgba(245,245,245,1)));background:-webkit-linear-gradient(left,rgba(245,245,245,0) 0,rgba(245,245,245,0.85) 51%,rgba(245,245,245,1) 70%,rgba(245,245,245,1) 100%);background:-o-linear-gradient(left,rgba(245,245,245,0) 0,rgba(245,245,245,0.85) 51%,rgba(245,245,245,1) 70%,rgba(245,245,245,1) 100%);background:-ms-linear-gradient(left,rgba(245,245,245,0) 0,rgba(245,245,245,0.85) 51%,rgba(245,245,245,1) 70%,rgba(245,245,245,1) 100%);background:linear-gradient(to right,rgba(245,245,245,0) 0,rgba(245,245,245,0.85) 51%,rgba(245,245,245,1) 70%,rgba(245,245,245,1) 100%);filter:progid:DXImageTransform.Microsoft.gradient(startColorstr='#f5f5f5',endColorstr='#f5f5f5',GradientType=1)}nav.city-menu-wrapper.article-sub-header .city-menu-2{line-height:19px}.SNextP3x1-container{width:320px;height:auto;position:fixed;right:0;bottom:70%;background-color:#ccc;z-index:99999}.SNextP3x1-container .story-card{margin-bottom:0}.SNextP3x1-container .story-card div.story-card-news{background:#133b5a;width:205px}.SNextP3x1-container .story-card div.story-card-news .story-card-news-text{color:#fff;display:block;max-height:90px;overflow:hidden}.SNextP3x1-container .story-card div.story-card-news:before{display:none}.SNextP3x1-container .story-card div.story-card-news:after{position:absolute;content:\"\";bottom:0;right:0;width:50%;height:20px;background:-moz-linear-gradient(left,rgba(19,59,90,0) 0,rgba(19,59,90,0) 0,rgba(19,59,90,0.9) 50%,rgba(19,59,90,1) 82%,rgba(19,59,90,1) 86%);background:-webkit-gradient(left top,right top,color-stop(0%,rgba(19,59,90,0)),color-stop(0%,rgba(19,59,90,0)),color-stop(50%,rgba(19,59,90,0.9)),color-stop(82%,rgba(19,59,90,1)),color-stop(86%,rgba(19,59,90,1)));background:-webkit-linear-gradient(left,rgba(19,59,90,0) 0,rgba(19,59,90,0) 0,rgba(19,59,90,0.9) 50%,rgba(19,59,90,1) 82%,rgba(19,59,90,1) 86%);background:-o-linear-gradient(left,rgba(19,59,90,0) 0,rgba(19,59,90,0) 0,rgba(19,59,90,0.9) 50%,rgba(19,59,90,1) 82%,rgba(19,59,90,1) 86%);background:-ms-linear-gradient(left,rgba(19,59,90,0) 0,rgba(19,59,90,0) 0,rgba(19,59,90,0.9) 50%,rgba(19,59,90,1) 82%,rgba(19,59,90,1) 86%)}@media(max-width:1599px){.author-container,.article::after,.artcl-social-media,.ad-container,.lead-img-cont,.author-bottom,.article h1{width:660px}.auth-bt-cont,.author-bottom{width:600px;box-sizing:border-box}.author-container{position:relative}.author-container .author-img-name{margin-right:0;float:left;clear:both;margin-bottom:10px}.share-artcl{padding:0 12px 0 0}.artcl-social-media ul li a{padding:0 1.5px}.article-cont p,.article h2{margin-left:30px;margin-right:30px}.article-exclusive{width:660px}.intro{padding-bottom:10px!important}}@media(max-width:1023px){.article{width:660px;margin:0 auto;margin-bottom:20px}.article-header-cont div.search-block input[type=\"text\"]{width:160px}.sticky-article-heading .share-counter{display:none}.artcl-social-media ul li a{padding-left:15px;padding-right:10px}}@media(min-width:1px) and (max-width:767px){.ksl-time-stamp{display:inline}.article .section-name,.article .exclusive{display:inline-block}.article,.author-container,.article::after,.artcl-social-media,.ad-container,.lead-img-cont,.author-bottom,.article h1,.article-cont p{width:100%}.article-cont p,.article h2{margin-left:0!important;margin-right:0!important}.article h2{width:100%}.article h2{padding:0 15px}.intro{padding-bottom:10px!important}.article h2{margin-left:15px;margin-right:15px}.article h1{padding:15px 10px 0;font-size:28px;line-height:30px;margin-bottom:10px;float:left}.mobile-author-cont{width:100%;height:auto;display:block;background-color:#fff;float:left;padding:0 15px;margin-bottom:15px}.mobile-author{display:block;width:100%}.mobile-auth-nm{display:block;font-size:16px;color:#133b5a;line-height:25px;font-weight:600}.mobile-ut-container{float:left;text-align:left;text-transform:uppercase}.article-topics-container{float:left;margin:0 0 12px 0;max-width:100%!important;width:100%;clear:both;padding-left:10px}span.lead-img-caption{position:absolute;bottom:0;padding:10px;left:0;z-index:2}.exclusive{padding-left:10px}.author-bottom{margin-left:0;padding-left:15px;margin-right:0}.lead-img-cont{margin-bottom:10px}.post-comment{float:right;margin-right:10px}.artcl-social-media ul li{float:none}.nxt-prv-2-story-cont{display:table;border-top:1px solid #d1ced2;margin:0 0 10px 0;max-height:115px;overflow:hidden;padding-top:15px;width:100%}.prev-story,.next-story{width:50%;float:left;height:auto;position:relative;padding:8px 13px 8px;max-height:95px;min-height:95px}.prev-story:after,.prev-story:before{border-left:6px solid transparent;border-right:6px solid transparent;content:\"\";height:0;right:-6px;position:absolute;width:0;z-index:2}.prev-story:after{border-top:12px solid #f5f5f5;top:0}.prev-story:before{border-bottom:12px solid #f5f5f5;bottom:0}.prev-story{background-color:#2a5e88;text-align:right}.next-story{background-color:#103a5b;text-align:left}.next-heading,.prev-heading{font-size:10px;font-family:\"Fira Sans\",sans-serif;font-weight:600;text-transform:uppercase;display:block;width:100%;line-height:11px;letter-spacing:1px}.story-text{color:#fff;font-family:\"TundraWeb\",serif;font-size:16px;line-height:18px;display:block;padding:0!important;max-height:54px;overflow:hidden}.artcl-social-media ul li{margin-bottom:-10px}.article-exclusive{padding-left:1px;padding-top:15px;float:left;width:100%}.lead-img-caption p{display:none}.show-caption{color:white;display:inline-block;position:absolute;font-size:16px;right:10px;bottom:0}header.article-header-cont{height:110px;min-height:110px;overflow:hidden;margin:0}.sticky-article-heading{display:none;background:#f5f5f5;height:40px;position:absolute;top:0}.article-header-cont .sticky-article-heading .artcl-social-media{right:65px}.sticky-article-heading .artcl-social-media ul li{border:0}.sticky-article-heading .artcl-social-media ul li a i{font-size:20px}.sticky-article-heading .share-artcl{display:none}.sticky-article-heading .logo-sq{left:35px}.just-in-conatiner{z-index:5}.article-header-cont .sticky-article-heading .artcl-social-media::before{content:none}.artcl-social-media{float:left;padding-left:10px}.artcl-social-media ul li a{padding:0 10px}.update-time{font-size:10px;font-family:\"Fira Sans\",sans-serif;font-weight:600;line-height:7px;letter-spacing:.69px;text-align:right;margin-top:10px}.update-time{text-align:left}.lead-img-cont{float:left}.sticky-article-heading{width:100%}}html{-webkit-text-size-adjust:100%;-ms-text-size-adjust:100%}*{font-weight:normal;-webkit-font-smoothing:antialiased;-moz-osx-font-smoothing:antialiased}body,input{font-weight:400;font-size:12px;line-height:22px;font-family:\"Fira Sans\",sans-serif;color:#505050}h1,h2,h3{margin:0;padding:0;font-family:\"TundraWeb\",serif}h1{font-size:36px;line-height:42px}h2{font-size:36px;line-height:39px}h3{font-size:20px;line-height:22px}p{font-family:\"TundraWeb\",serif}html,body{height:100%}body{margin:0 auto;padding:0;width:100%;overflow-x:hidden;background:#f5f5f5}header:before,header:after,section:before,section:after{content:\"\";display:table;line-height:0}header:after,section:after{clear:both}header{position:relative;width:100%}aside{width:300px;float:right;text-align:center}.add{padding:0 10px;margin-bottom:20px}.add{position:relative}section.header-top{border-bottom:solid 1px #c8c8c3;margin-top:5px}.story-text{padding:10px 20px}a{color:#000;outline:0;text-decoration:none}header{min-height:258px}div#logo{text-align:center;padding:10px 0 0}div#logo a{display:block;margin:0 auto;width:480px;height:45px}i.icon:before,i.icon:after{content:\"\";display:block;width:30px;height:3px;background:#333;position:absolute;z-index:-1}i.icon:before{top:-6px}i.icon:after{top:6px}nav{position:relative}nav ul{margin:0;padding:0;list-style:none}nav ul{position:relative}nav.main-menu{border-bottom:solid 1px #ccc}nav.city-menu-wrapper{width:100%;box-sizing:border-box}nav.city-menu-wrapper .city-menu-1{background:#2a5e88;background-image:url(data:image/png;base64,iVBORw0KGgoAAAANSUhEUgAAABQAAAAUAQMAAAC3R49OAAAABlBMVEUHJ0AJL0wyMCwHAAAAIElEQVQImWP4vvcBQ/W9Dwx73xcw3Pu+geF99QUGCsQAXCku4YzGKp8AAAAASUVORK5CYII=);background-repeat:repeat;background-position:top left;width:100%;height:65px;float:left;position:relative}nav.city-menu-wrapper .city-menu-1>nav{background:#133b5a;width:100%;clear:none;height:25px;line-height:25px;position:relative;float:left}nav.city-menu-wrapper .city-menu-1>nav>ul{margin:0;padding:0;float:left}.city-menu-1>nav>ul>li{display:inline-block;position:relative}.city-menu-1>nav>ul>li>a{font-size:12px;font-family:\"Fira Sans\",sans-serif;color:rgba(255,255,255,0.5);letter-spacing:.85px;line-height:17px;padding:0 11px;text-transform:uppercase}.city-menu-1>nav>ul>li.active>a{color:white}.city-menu-1>nav>ul>li:first-child>a{color:rgba(255,255,255,0.5)}.city-menu-1>nav>ul>li:first-child{background-color:rgba(8,8,8,0.5);margin-right:10px}.city-menu-1>nav>ul>li:first-child:after{position:absolute;content:\"\";border-bottom:12.5px solid transparent;border-left:10px solid rgba(8,8,8,0.5);border-top:12.5px solid transparent;width:0;height:0;top:0;right:-10px}nav.city-menu-wrapper .city-menu-2{width:165px;height:65px;background:#326e00;float:right;position:relative;padding:10px 5px 0 15px;letter-spacing:.92px;line-height:16px;background-image:url(data:image/png;base64,iVBORw0KGgoAAAANSUhEUgAAABQAAAAUAQMAAAC3R49OAAAABlBMVEUHJ0AJL0wyMCwHAAAAIElEQVQImWP4vvcBQ/W9Dwx73xcw3Pu+geF99QUGCsQAXCku4YzGKp8AAAAASUVORK5CYII=);background-repeat:repeat;background-position:left center;margin-top:-65px}nav.city-menu-wrapper .city-menu-2 a{color:#fff}nav.city-menu-wrapper .city-menu-2:before{border-left:6px solid transparent;border-right:6px solid transparent;border-top:12px solid #f5f5f5;content:\"\";height:0;left:-6px;position:absolute;top:0;width:0}nav.city-menu-wrapper .city-menu-2:after{border-bottom:12px solid #f5f5f5;border-left:6px solid transparent;border-right:6px solid transparent;content:\"\";height:0;left:-6px;position:absolute;bottom:0;width:0}#main-menu{float:left;margin-top:20px;font-size:12px;color:#5a5a5a;letter-spacing:1.2px;line-height:13px}#main-menu>ul>li{float:left}#main-menu>ul>li>a{display:block;line-height:25px;color:#828282;font-size:12px;letter-spacing:1.2px;padding:0 11px;font-family:\"Fira Sans\",sans-serif;font-weight:600;text-transform:uppercase}div.socialize{float:left;width:auto}div.socialize ul{margin:0;padding:0;list-style:none;font-size:0}div.socialize ul li{display:inline-block;position:relative}div.socialize ul li a{border-right:solid 1px #c8c8c3;display:inline-block;color:#5a5a5a;text-align:center;font-size:11px;line-height:30px;height:30px;width:40px;position:relative;padding:0 14px}div.socialize ul li:last-child a{font-size:14px}div.overlay-screen{background:rgba(0,0,0,0.69);bottom:0;left:0;opacity:0;position:fixed;right:0;top:0;visibility:hidden;z-index:101}div.menu-icon{float:left;width:38px;text-transform:uppercase}.menu-close{top:-5px}#menu-button{display:block;height:50px;width:30px;text-align:center;position:relative;padding-top:22px;color:#aaa;z-index:100}i.icon{display:inline-block;width:27px;height:3px;background:#5a5a5a;position:relative;top:-6px;border-radius:3px}i.icon:before,i.icon:after{content:\"\";display:block;width:27px;height:3px;background:#5a5a5a;position:absolute;z-index:-1;border-radius:3px}i.icon:before{top:-7px}i.icon:after{top:7px}.focus i{background:none!important}.focus i.icon:before,.focus i.icon:after{background:#fff}.focus i.icon:before{top:0;-webkit-transform:rotate(45deg);-moz-transform:rotate(45deg);-ms-transform:rotate(45deg);transform:rotate(45deg)}.focus i.icon:after{top:0;-webkit-transform:rotate(-45deg);-moz-transform:rotate(-45deg);-ms-transform:rotate(-45deg);transform:rotate(-45deg)}div#popup-menu{background:#2a5e88;color:#fff;bottom:0;left:0;position:fixed;right:0;top:0;width:100%;height:100%;clear:both;z-index:99999999999!important;overflow:scroll;padding-top:50px}div#popup-menu i.icon{top:-1px;left:-20px}.menu-top,.popup-menu-blue{width:1240px;margin:0 auto}.popup-menu-blue{background:#2a5e88;position:relative}.close-top{left:8px!important}div#popup-menu a{color:#fff}a.close{display:inline-block;line-height:35px;left:25px;text-transform:uppercase;font-size:12px;font-family:\"Fira Sans\",sans-serif;font-weight:600;position:relative;z-index:1;letter-spacing:2px}.popup-bottom-close{margin-right:44%;margin-top:10px}a.close i.close-icon{display:inline-block;width:30px;height:3px;position:relative;top:-3px;background:0;left:0}a.close i.close-icon:before,a.close i.close-icon:after{content:\"\";display:block;width:20px;height:3px;position:absolute;z-index:-1;left:0}a.close i.close-icon:before,a.close i.close-icon:after{background:#fff}a.close i.close-icon:before{top:0;-webkit-transform:rotate(45deg);-moz-transform:rotate(45deg);-ms-transform:rotate(45deg);transform:rotate(45deg)}a.close i.close-icon:after{top:0;-webkit-transform:rotate(-45deg);-moz-transform:rotate(-45deg);-ms-transform:rotate(-45deg);transform:rotate(-45deg)}div.popup-menu ul{margin:0;padding:0;list-style:none}div.popup-menu>ul{margin:12px 0 0 0;float:left;padding:0 15px}div.popup-menu>ul>li{border-bottom:dashed 1px #5078ac}div.popup-menu>ul>li>a{font-family:\"Fira Sans\",sans-serif;font-weight:600;font-size:16px;color:#fff;line-height:45px}div.popup-menu ul li a{display:block}div.popup-menu ul.sub-menu li a{color:#c1cee0!important;font-size:12px;letter-spacing:2px;line-height:35px;text-transform:uppercase}div.popup-menu ul.sub-menu li:last-child a{border-bottom:0}div#popup-menu div.trading-menu{background:#133b5a;height:45px;z-index:9999999;line-height:45px;float:left;width:100%}div#popup-menu div.trading-menu ul{margin:0;padding:0;list-style:none}div#popup-menu div.trading-menu ul li{line-height:35px;font-family:\"Fira Sans\",sans-serif;font-weight:600;display:inline-block;letter-spacing:2px}div#popup-menu div.trading-menu ul li:first-child{margin-left:145px}.trending-sticky-menu{float:left;line-height:35px;font-family:\"Fira Sans\",sans-serif;font-weight:600;display:inline-block;letter-spacing:2px;background:#133b5a;padding:5px 10px 0 10px;color:#f8d01c;margin:0 0 0 -10px;position:absolute;z-index:1}div#popup-menu div.trading-menu ul li a{display:inline-block;line-height:35px;color:#f5f5f5;font-size:12px;padding:0 9.5px;letter-spacing:2px;text-transform:uppercase;font-weight:600}.other-menu{background:#304d68;height:auto}.other-menu ul.menu{float:left;width:auto}.other-menu ul.menu li{float:left}.other-menu ul.menu li a{font-size:12px;font-family:\"Fira Sans\",sans-serif;font-weight:600;color:#c1cee0!important;text-transform:uppercase;padding:0 12px;line-height:35px;letter-spacing:2px}.other-menu ul.menu li:last-child a{padding-right:0}.other-menu ul.socialize{float:right;width:auto;padding:0;letter-spacing:2px}.other-menu ul.socialize li{display:inline-block;float:left}.other-menu ul.socialize li a{display:inline-block;padding:0 12px;line-height:35px;font-size:14px;letter-spacing:0;color:#c1cee0}@media only screen and (min-width:1px) and (max-width:1023px){div.popup-menu>ul{margin:0}div.popup-menu ul.sub-menu{display:none}div#popup-menu div.trading-menu{overflow-x:auto;overflow-y:hidden;white-space:nowrap}div#popup-menu .other-menu{height:auto;padding:10px 0;text-align:left;position:relative;top:-1px}div#popup-menu .other-menu .socialize li{margin-right:0;float:none}ul.socialize i{font-size:20px}}.popup-search-bar{background-color:#2a5e88;margin-top:5px;text-align:center;width:100%;padding:5px 0 15px 0}.ps-sub-container{position:relative;margin:0 auto;max-width:90%;text-align:center}.popup-input{background-color:#f9f7f3;border:0 none;color:#5a5a5a;font-size:12px;font-family:\"Fira Sans\",sans-serif;font-weight:600;height:40px;line-height:40px;margin-right:-3px;outline:0 none;padding:0 10px;width:80%;border-right:1px solid #f5f5f5;position:relative;border-radius:0!important;-webkit-border-radius:0!important;-ms-border-radius:0!important;-moz-border-radius:0!important;-o-border-radius:0!important}.popup-search{width:40px;height:40px;line-height:40px;background-color:#f9f7f3!important;margin-top:-1px;position:relative;color:#000}.popup-search i.fa-search{color:#5a5a5a;left:11px;line-height:40px;position:absolute;text-align:center;top:0;font-size:20px}.just-in-conatiner{color:#133b5a;font-size:18px;line-height:18px;position:absolute;right:25px;top:13px}.just-in-counter{background-color:#ff000b;border-radius:9px;color:#fff;font-family:\"Fira Sans\",sans-serif;font-weight:600;font-size:12px;height:18px;left:12px;letter-spacing:-0.5px;line-height:18px;position:absolute;text-align:center;top:-11px;width:22px}.red-color{color:#ff000b}button{background:#0064b2;border:0;color:#fff;font-family:\"Fira Sans\",sans-serif;padding:6px 12px;text-transform:uppercase;-webkit-appearance:none;vertical-align:middle}div.search-block{float:right;width:auto;position:absolute;right:0;top:2px}section.header-top{border-bottom:solid 1px #c8c8c3;margin-top:5px;position:relative}div.search-block input[type=\"text\"]{background:#f5f5f5;border:0;border-width:0 1px;float:left;width:212px;font-size:12px;font-family:\"Fira Sans\",sans-serif;font-weight:600;color:#282828;height:28px;padding:0 10px;border-radius:0!important;-webkit-border-radius:0!important;-ms-border-radius:0!important;-moz-border-radius:0!important;-o-border-radius:0!important;border-left:1px solid #ccc}.search-selection-icon{float:right;display:block;font-size:14px;line-height:14px;margin-left:14px;padding:5px 10px 0 0}img,a img{border:0;outline:0}p{margin:0;padding:5px 0 10px 0;font-size:16px;line-height:18px}.clear:after{clear:both;content:\" \";display:block;font-size:0;height:0;visibility:hidden}.clear{clear:both;display:block}.left{float:left;width:auto}.right{float:right;width:auto}img{max-width:100%;height:auto}iframe{max-width:100%}div.top-add{text-align:center;width:100%;background:#e6e6e1;line-height:initial}.pages-details{font-size:10px;color:#9b9b9b;letter-spacing:1px;margin-bottom:6px}.yellow-color,a.yellow-color{color:#f8d01c;display:inline;text-transform:capitalize!important}.SNextP3x1-next-story.yellow-color{font-family:\"Fira Sans\",sans-serif;font-weight:600;text-transform:uppercase!important}.red-color,span.red-color{color:#ff001f!important}.teaser-text{display:none}.blue-color,span.blue-color{color:#133b5a;display:inline-block}.section-name{color:#133b5a;letter-spacing:.85px;display:inline-block;text-transform:uppercase;font-family:\"Fira Sans\",sans-serif!important;font-weight:600}div.story-card{width:100%;height:115px;position:relative;margin-bottom:20px;background:#fff;overflow:hidden}.story-card-img{float:left;width:115px;height:115px;position:relative;z-index:1}.story-card-img:after{position:absolute;content:\"\";width:115px;height:115px;left:0;top:0;background:-moz-radial-gradient(ellipse at center,rgba(255,255,255,0) 0,rgba(74,74,74,0.5) 100%);background:-o-radial-gradient(ellipse at center,rgba(255,255,255,0) 0,rgba(74,74,74,0.5) 100%);background:-webkit-radial-gradient(ellipse at center,rgba(255,255,255,0) 0,rgba(74,74,74,0.5) 100%);background:radial-gradient(ellipse at center,rgba(255,255,255,0) 0,rgba(74,74,74,0.5) 100%)}div.story-card-news{box-sizing:border-box;float:right;height:115px;position:relative;width:335px;padding:7px 10px 10px 10px!important}.story-card-news:after{content:\"\";position:absolute;width:40%;height:39px;bottom:0;right:0;background:-moz-linear-gradient(left,rgba(255,255,255,0) 0,rgba(255,255,255,0.9) 50%,rgba(255,255,255,1) 100%);background:-webkit-linear-gradient(left,rgba(255,255,255,0) 0,rgba(255,255,255,0.9) 50%,rgba(255,255,255,1) 100%);background:linear-gradient(to right,rgba(255,255,255,0) 0,rgba(255,255,255,0.9) 50%,rgba(255,255,255,1) 100%);filter:progid:DXImageTransform.Microsoft.gradient(startColorstr='#00ffffff',endColorstr='#ffffff',GradientType=1)}.story-card-news::before{content:\"\";background:white;height:20px;bottom:0;left:0;position:absolute;width:100%;z-index:0}div.story-card-news>span{font-size:12px;letter-spacing:.85px;line-height:14px;display:block;margin-bottom:4px}div.story-card-news>a{padding:0;font-size:16px;color:#282828;line-height:18px;display:block;font-family:\"TundraWeb\",serif;margin-top:-2px}nav.city-menu-wrapper .city-menu-2{text-transform:uppercase}*{outline:0!important}.pages-details{text-transform:uppercase}.add{color:#282828}@media(max-width:1599px){#main-menu>ul>li>a{padding:0 10px}div.story-card-news{width:205px}.story-card-news:after{height:36px}}@media(max-width:1279px){.other-menu ul.socialize li a{padding:0 11px!important}.other-menu ul.menu li a{padding:0 11px!important}}@media(min-width:1024px) and (max-width:1050px){div.popup-menu{overflow-y:scroll;overflow-x:hidden}}@media(min-width:1024px) and (max-width:1599px){.menu-top,.popup-menu-blue{width:1000px!important;margin:0 auto}}@media(max-width:1023px){aside{width:100%}div.story-card-news{width:235px}.story-card-news{height:36px}#main-menu>ul>li>a{padding:0 11px}div.popup-menu ul.sub-menu li a{border-bottom:1px solid #5078ac;line-height:45px!important}div#popup-menu .other-menu{margin:0 auto;text-align:center;width:100%;display:table}.other-menu ul.socialize{float:none!important}.other-menu ul.menu{width:100%!important}.other-menu ul.menu li{float:none!important;display:inline-block}}@media(min-width:768px) and (max-width:1023px){div#popup-menu{padding-top:20px!important}}@media(max-width:1023px) and (min-width:768px){.popup-bottom-close{margin-right:41%!important}.menu-top,.popup-menu-blue{width:730px!important;margin:0 auto}}@media(max-width:767px){div#logo a{margin:0 40px}header{min-height:160px}div.popup-menu ul.sub-menu li a{border-bottom:1px solid #5078ac;line-height:45px!important}.popup-bottom-close{margin-right:31%!important}div#popup-menu div.trading-menu{overflow-x:auto!important;white-space:nowrap;width:100vw!important}.menu-top,.popup-menu-blue{width:100%!important;margin:0 auto}}@media(min-width:1px) and (max-width:767px){div.top-add{display:none}ul.socialize li:nth-child(1){width:100%;border-top:1px dashed #5078ac;padding-top:10px;margin-top:10px;float:left}.mob-top-add{width:100%;height:auto;clear:both;background:#faf9f6;text-align:center;line-height:50px;margin-bottom:10px}div.story-card-news{float:left;width:100%;line-height:16px;padding-top:6px!important;padding-left:125px!important;position:absolute;left:0;top:0}.story-card-news{height:36px}div.story-card{margin-bottom:10px}.add{margin-bottom:10px}.section-name{display:none}section.header-top{border-bottom:0;margin-top:0}.city-menu-wrapper .city-menu-1{height:auto!important;margin-bottom:5px}div#logo{padding:5px 0 0 0;text-align:center}.logo-block{width:100%;background:white}div#logo a{height:30px;width:215px}.logo{background:white;height:40px;width:100%;margin:0 auto}.main-menu{border-bottom:none!important;position:absolute;top:16px;left:12px}.logo-block{margin-bottom:10px}div.menu-icon{float:left;text-transform:uppercase;width:38px;top:5px;position:absolute;left:10px}.menu-icon #menu-button{padding-top:10px!important}nav.main-menu{border-bottom:medium none white;left:0;position:absolute;top:0;width:100%}a.close{top:0}div#popup-menu i.icon{top:-1px;left:-20px}a.close.menu-close.close-top{top:7px}.close-top{top:6px;position:relative;padding-left:40px}.pages-details{margin-bottom:2px}div.story-card-news>a{margin-top:1px}.menu-top{position:fixed;top:0;z-index:100;background:#2a5e88}.popup-menu-blue{background:#2a5e88 none repeat scroll 0 0;height:100vh;overflow:scroll;padding-top:147px;position:fixed;top:0;width:100vw}.trending-sticky-menu{position:fixed!important;margin:0 0 0 -11px}div#popup-menu .other-menu{margin:0 auto;text-align:center;width:100%;display:table}.other-menu ul.socialize{float:none!important}.other-menu ul.menu{width:100%!important}.other-menu ul.menu li{float:left;display:inline-block}}@media(min-width:768px){#menu-button::after{content:\"MENU\";position:absolute;top:0;left:2px;font-size:10px;color:#505050}}@media(min-width:1px) and (max-width:767px){div#logo{padding:8px 0 0 0}body{overflow:scroll}*{-webkit-overflow-scrolling:touch}}.focuspoint{position:relative;overflow:hidden}.focuspoint img{position:absolute;left:0;top:0;margin:0;display:block;width:auto;height:auto;min-width:100%;max-height:none;max-width:100%}.focuspoint{position:relative;overflow:hidden;background-image:url(\"../img/placeholder.png\");background-repeat:no-repeat;background-position:center center;background-size:auto auto}.large-text,.edite-text-cont .medium-text,.small-text{color:#282828!important}@media(max-width:767px){.breadcrumb>li{margin-left:2px}}.intro{border-bottom:0}.nextStoryClose{color:#133b5a;text-align:right;width:100%;font-size:12px;position:absolute;right:0;top:-30px;background-color:transparent;font-family:\"Fira Sans\",sans-serif;font-weight:600;letter-spacing:.85px}.SNextP3x1-container{width:320px;height:auto;position:fixed;right:0;bottom:80px;background-color:#ccc;z-index:99999}.ksl-time-stamp,.update-time{font-size:10px;font-family:\"Fira Sans\",sans-serif;font-weight:600;line-height:12px;letter-spacing:.69px;text-align:right;margin-top:5px}.breadcrumb{list-style:none;padding-left:0}.breadcrumb>li{display:inline-block;text-transform:uppercase;font-size:10px;color:#9b9b9b;letter-spacing:1px;margin-bottom:6px}.breadcrumb>li+li:before{padding:0 5px;content:\">\\00a0\"}.js-menu{display:none}.clearfix:before,.clearfix:after{content:\" \";display:table}.clearfix:after{clear:both}.img-container img.adaptive{width:auto;height:auto;min-width:100%;min-height:initial}.lead-img{min-height:auto!important}img{vertical-align:middle}hr{margin-top:20px;margin-bottom:20px;border:0;border-top:1px solid #eee}a.no-lnk{text-transform:uppercase;text-decoration:none}.container.clear ul{margin:0}.storyNextPopUp{display:none}.article-topics-container{clear:left}.article-cont p a{color:#3b5999;font-weight:600}@media(min-width:1px) and (max-width:767px){.article-header-cont .sticky-article-heading .artcl-nm-stky-text{left:40px;width:60%;z-index:0}}@media(max-width:767px) and (min-width:1px){.article h2,.article-cont p,.article p{padding:0 15px}}.printfooter{display:none}#main-menu>ul>li>a{padding:0 11px 5px 11px!important}@media(max-width:1599px){#main-menu>ul>li>a{padding:0 11px 5px 9px!important}}#main-menu>ul>li.dropdown{display:block;border-radius:2px;-webkit-border-radius:2px;-moz-border-radius:2px;position:relative}#main-menu>ul>li.dropdown a{display:block;color:#828282;text-decoration:none}.dropdown-menu{display:none;position:absolute;background-color:#fff;min-width:100%;white-space:nowrap;-webkit-box-shadow:-2px 4px 16px -2px rgba(0,0,0,0.49);-moz-box-shadow:-2px 4px 16px -2px rgba(0,0,0,0.49);box-shadow:-2px 4px 16px -2px rgba(0,0,0,0.49);z-index:999999;padding:5px 0;margin-top:4px;margin-left:0;height:auto;top:22px;font-family:\"Fira Sans\",sans-serif;font-weight:600;text-transform:uppercase;border-radius:4px;-webkit-border-radius:2px;-moz-border-radius:2px}@media(min-width:1000px){li.dropdown>.dropdown-menu a{padding:5px 14px;height:35px;line-height:30px;text-decoration:none;text-align:left;font-size:12px;letter-spacing:1px;font-weight:600}.dropdown-menu:after{bottom:100%;left:20%;border:solid transparent;content:\" \";height:0;width:0;position:absolute;border-color:rgba(136,183,213,0);border-bottom-color:#fff;border-width:8px;margin-left:-5px}}.add{position:initial!important}.article{width:100%}@media(min-width:1024px) and (max-width:1599px){.article{width:660px}}@media(min-width:1600px){.article{width:920px}}@media(max-width:767px) and (min-width:1px){.other-menu ul.socialize li{float:none;margin-right:0}}.article h2.intro{font-size:18px}span.lead-img-caption p a{color:white}.other-menu ul.socialize li span{display:inline-block;padding:0 12px;line-height:35px;font-size:14px;letter-spacing:0;font-family:inherit}@media(max-width:767px) and (min-width:1px){.other-menu ul.socialize{clear:both}}.other-menu ul.menu{list-style:none}.close-icon{position:absolute;background:#133b5a;right:95%;padding:2px 10px;color:#fff}.close-icon{position:absolute;background:#133b5a;right:95%;padding:2px 10px;color:#fff}.other-menu ul.menu{list-style:none}@media(max-width:767px){header{min-height:100px}}header{min-height:0}#stickyfooterarticle{width:1240px;position:fixed;padding:0;z-index:999999;bottom:0;margin:0 auto;height:108px;background:#fff;box-shadow:0 0 4px 0 rgba(0,0,0,0.328);visibility:hidden}#stickyfooterarticle .close{z-index:999999;float:right;height:16px;overflow:hidden}#stickyfooterarticle .close span{color:#133b5a;overflow:hidden;line-height:12px;font-size:10px;padding:5px;font-family:\"Fira Sans\",sans-serif;font-weight:600}.recommendedtitlediv{position:relative;top:-35px;font-family:\"Fira Sans\",sans-serif;font-weight:600;font-size:14px;color:#fff}.recommendedtitlewrap{border-bottom:26px solid #133b5a;border-right:20px solid transparent;top:10px;bottom:0;position:absolute;padding:0}.recommendedtitlewrap span{padding:0 15px;margin-top:3px;display:block}#stickyfooterarticle .textcount{display:none}@media(max-width:1599px){#stickyfooterarticle{width:980px}}.footercar{width:100%;padding-left:15px;padding-right:15px;clear:both;margin-bottom:10px}@media(max-width:1023px) and (min-width:768px){#stickyfooterarticle{width:730px}}@media(max-width:1024px) and (min-width:768px){#stickyfooterarticle{bottom:50px}}@media(max-width:767px){#stickyfooterarticle{width:100%;position:relative;height:auto;box-shadow:none;padding:0;z-index:1}#stickyfooterarticle .close{display:none}.footercar{padding-left:0;padding-right:0}.recommendedtitlediv{top:-15px}.recommendedtitlewrap span{padding:3px 10px;margin-top:0;display:block}.recommendedtitlediv:after{content:\"\";border:.5px solid #d1ced2;width:100%;display:block;position:absolute;bottom:-36px}#stickyfooterarticle .textcount{display:block;float:right;font-family:\"Fira Sans\",sans-serif;font-weight:600;font-size:12px;position:absolute;top:0;right:10px}}.dfp-ad{text-align:center}@media(max-width:1023px) and (min-width:768px){#main-menu>ul>li:nth-child(n+7){display:none!important}#main-menu>ul>li:nth-last-child(-n+2){display:block!important}}@media(min-width:1024px) and (max-width:1599px){#main-menu>ul>li:nth-child(n+10){display:none}#main-menu>ul>li:nth-last-child(-n+2){display:block}}div.socialize ul li a.ePaper{font-size:10px;padding:0 5px}@media(max-width:767px) and (min-width:1px){nav.city-menu-wrapper.article-sub-header{display:none}header.article-header-cont{overflow:visible;height:auto;min-height:auto}}.nextinfinite{background:#133b5a;margin-bottom:20px;color:#fff;position:relative;display:none;clear:both}.nextinfinite:after{content:\"\";display:block;margin:auto;width:0;height:0;border-left:10px solid transparent;border-right:10px solid transparent;border-top:10px solid #133b5a;position:absolute;left:48%}.inifinitecontain{position:relative;border-top:25px solid #0d2131;border-left:20px solid transparent;left:40%;border-right:20px solid transparent;width:20%;text-align:center}.inifinitecontain span{font-size:16px;line-height:13px;position:absolute;margin-bottom:0;top:-20px;padding-right:10px;text-align:center;left:25%;font-family:\"Fira Sans\",sans-serif!important;font-weight:600}@media(max-width:767px) and (min-width:1px){.inifinitecontain{left:25%;width:50%}}button::-moz-focus-inner{padding:0;border:0}@media(max-width:767px) and (min-width:1px){.artcl-nm-stky-text:after{content:\"\";display:block;position:absolute;right:0;top:0;width:70px;height:40px;background:-moz-linear-gradient(left,rgba(255,255,255,0) 0,rgba(252,252,252,0.69) 35%,rgba(249,249,249,1) 64%,rgba(245,245,245,1) 100%);background:-webkit-gradient(left top,right top,color-stop(0%,rgba(255,255,255,0)),color-stop(35%,rgba(252,252,252,0.69)),color-stop(64%,rgba(249,249,249,1)),color-stop(100%,rgba(245,245,245,1)));background:-webkit-linear-gradient(left,rgba(255,255,255,0) 0,rgba(252,252,252,0.69) 35%,rgba(249,249,249,1) 64%,rgba(245,245,245,1) 100%);background:-o-linear-gradient(left,rgba(255,255,255,0) 0,rgba(252,252,252,0.69) 35%,rgba(249,249,249,1) 64%,rgba(245,245,245,1) 100%);background:-ms-linear-gradient(left,rgba(255,255,255,0) 0,rgba(252,252,252,0.69) 35%,rgba(249,249,249,1) 64%,rgba(245,245,245,1) 100%);background:linear-gradient(to right,rgba(255,255,255,0) 0,rgba(252,252,252,0.69) 35%,rgba(249,249,249,1) 64%,rgba(245,245,245,1) 100%);filter:progid:DXImageTransform.Microsoft.gradient(startColorstr='#4c4c4c',endColorstr='#131313',GradientType=0)}}.artcl-social-media ul li a i.fa-comment{margin-right:3px}@media(max-width:1024px) and (min-width:768px){.author-container,.article::after,.artcl-social-media,.ad-container,.lead-img-cont,.author-bottom,.article h1{width:100%}.article-cont p,.article h2{margin:0}.article-cont p{margin:0;padding:15px 30px;width:100%}.article h2{width:100%;padding:15px 30px}.author-bottom{margin:0;padding:5px 30px}}@media(max-width:320px){.article-header-cont .sticky-article-heading .artcl-social-media{right:40px}}span.show-caption{position:absolute;bottom:10px;right:10px;color:#fff;font-size:20px}@media(max-width:420px){.article{overflow:hidden}body{overflow-x:hidden;overflow-y:scroll}body>div{overflow:hidden}body>div.container-main{overflow:auto;overflow-x:hidden;overflow-y:auto}}.aruthMainSrch .arutRight-txtIn .nl-error p{line-height:22px;padding:7px 9px 6px 11px;display:inline;font-size:14px;width:75%;float:left;margin:2px 0;background:#da2753;font-size:16px;font-weight:600}.aruthMainSrch p{color:#fff}@media only screen and (max-width:1023px) and (min-width:768px){.author-bottom{border-top:0 solid #d1ced2}}@media only screen and (max-width:767px) and (min-width:1px){.author-bottom{padding:20px 0 0 6px;position:relative;width:100%;border-top:0 solid #d1ced2}}.overlay{position:fixed;top:0;left:0;width:100%;height:100%;z-index:99999;background-color:rgba(0,0,0,0.5)}.addblockersection{display:none;font-family:Fira Sans,sans-serif!important}.addblockersection .callout{position:fixed;top:50%;left:50%;max-width:690px;z-index:999999;-ms-transform:translate(-50%,-50%);-webkit-transform:translate(-50%,-50%);transform:translate(-50%,-50%);margin:0!important;width:100%;padding:10px}.addblockersection .callout-container{padding:15px;border-radius:4px;box-shadow:0 0 25.5px 4.5px rgba(0,0,0,0.29);background-color:#f0f7fa;padding:10px;color:black;width:100%}.addblockersection h2{font-family:Fira Sans,sans-serif;font-size:21px;font-weight:600;font-style:normal;font-stretch:normal;line-height:normal;letter-spacing:normal;text-align:left;color:#0377ba;text-align:center}.addRight{display:inline-block}.addsubBtn{border-radius:4px;background-color:#fff;box-shadow:none;border:1px solid #1e3a58;padding:12px 18px;color:#1e3a58;font-weight:600}.addExploreBtn{border-radius:4px;background-color:#0377ba;box-shadow:none;border:1px solid #0377ba;padding:13px;color:#fff;font-weight:600}.popupBtn{margin:18px auto 0;text-transform:unset!important;font-size:16px}.addRight{width:48%}.addMidDiv{margin:18px 0;position:relative}@media(max-width:1024px) and (min-width:1px){.addRight{width:100%}}@media(max-width:767px) and (min-width:421px){.article-header-cont .sticky-article-heading .artcl-social-media{padding:10px 45px 0 40px}}@media(max-width:420px) and (min-width:321px){.article-header-cont .sticky-article-heading .artcl-social-media{padding:10px 10px 0 10px}}@media(max-width:320px){.article-header-cont .sticky-article-heading .artcl-social-media{padding:10px 0 0 5px}}.support-jlm p{clear:both}.nopad{padding:0}.leftstickyad{position:absolute;left:10px;z-index:7499}.rightstickyad{position:absolute;right:10px;z-index:7499}.dropdown{top:auto!important}@media(max-width:767px){#main-menu{margin-top:0}}.blink-active{animation:1s blinker linear infinite;-webkit-animation:1s blinker linear infinite;-moz-animation:1s blinker linear infinite}@media(min-width:768px){.artcl-social-media ul li a{padding:0 13px!important}}@media(max-width:767px){.nativeshare{font-size:22px!important;color:#133b5a;position:relative;right:10px;padding:5px 10px;top:-5px}ul.aricle-sticky-share{display:none}ul.aricle-sticky-share{position:relative;left:85px;float:left;top:40px;background:#fff;border-radius:8px;padding:5px 0;box-shadow:0 0 4px 0 rgba(0,0,0,0.328);z-index:99999999999999}.article-header-cont .sticky-article-heading .artcl-social-media{background:transparent}.sticky-article-heading .artcl-social-media ul li{border-right:1px solid #d0d0d0}ul.aricle-sticky-share:before{bottom:100%;left:auto;right:40%;border:solid transparent;content:\" \";height:0;width:0;position:absolute!important;border-color:rgba(136,183,213,0);border-bottom-color:#fff;border-width:8px;margin-left:-5px}}@media(max-width:767px) and (min-width:1px) and (orientation:landscape){.article-header-cont .sticky-article-heading .artcl-social-media{right:30px}}@media(max-width:320px){ul.aricle-sticky-share{left:55px}.nativeshare{right:45px}}@media(max-width:1023px){div#logo a{margin:0 auto}}\n",
      "function appURL(){\treturn \"https://www.thehindu.com/\";\n",
      "function getStorage(name){\tif(typeof(Storage) !== \"undefined\" && 'localStorage' in window && window.localStorage !== null) {\tif (localStorage.getItem(name)){\tcookieObj = JSON.parse(localStorage.getItem(name));\n",
      "} function loadAsyncURL(url){ var s = document.createElement(\"script\"), el = document.getElementsByTagName(\"script\")[0];\n",
      "function loadSyncURL(url){ var s = document.createElement(\"script\"), el = document.getElementsByTagName(\"script\")[0];\n",
      "return new Promise(function(resolve, reject) {\n",
      "return new Promise(function(resolve, reject) {\n",
      "function loadCSS(url) {try { var link = document.createElement('link'); link.rel = 'stylesheet'; link.href = url; link.type = 'text/css'; var linkinsert = document.getElementsByTagName('link')[0]; linkinsert.parentNode.insertBefore(link, linkinsert); } catch (e) { }}\n",
      "<script data-cfasync=\"false\">(function(src) { var a = document.createElement(\"script\"); a.type = \"text/javascript\"; a.async = true; a.src = src; var b = document.getElementsByTagName(\"script\")[0]; b.parentNode.insertBefore(a, b) })(\"https://experience.tinypass.com/xbuilder/experience/load?aid=3qrmsuqPpu\"); tp = window[\"tp\"] || [];\n",
      "<script type=\"text/javascript\">var userconsent = 1 ;if(!isTrackingAllowed()){userconsent=0;} var _comscore = _comscore || []; _comscore.push({ c1: \"2\", c2: \"11398210\",cs_ucfr: userconsent}); (function() { var s = document.createElement(\"script\"), el = document.getElementsByTagName(\"script\")[0]; s.async = true; s.src = (document.location.protocol == \"https:\" ?\n",
      "if(isNonSubcribedUser()){ !function(a9,a,p,s,t,A,g){if(a[a9])return;function q(c,r){a[a9]._Q.push([c,r])}a[a9]={init:function(){q(\"i\",arguments)},fetchBids:function(){q(\"f\",arguments)},setDisplayBids:function(){},targetingKeys:function(){return[]},_Q:[]};A=p.createElement(s);A.async=!0;A.src=t;g=p.getElementsByTagName(s)[0];g.parentNode.insertBefore(A,g)}(\"apstag\",window,document,\"script\",\"//c.amazon-adsystem.com/aax2/apstag.js\");\n",
      "clevertap.privacy.push({optOut: false}); //set the flag to true, if the user of the device opts out of sharing their data\n",
      "var replacement = document.createElement(\"div\");\n",
      "var withoutbodycontent =$('div[id^=\"content-body\"]' ).length;\n",
      "pageUrl: 'https://www.thehindu.com/news/national/three-indian-companies-get-licence-to-manufacture-nasas-ventilators-for-covid-19-patients/article31708809.ece',\n",
      "var articleSize = document.getElementsByClassName(\"article\").length - 1;\n",
      "var articleSize = document.getElementsByClassName(\"article\").length - 1;\n",
      "var articleSize = document.getElementsByClassName(\"article\").length - 1;\n",
      "var articleSize = document.getElementsByClassName(\"article\").length - 1;\n",
      "var componentContainer = document.getElementsByClassName(\"article\")[articleSize].getElementsByTagName(\"div\");\n",
      "var componentContainer = document.getElementsByClassName(\"article\")[articleSize].getElementsByTagName(\"div\");\n",
      "var componentContainer = document.getElementsByClassName(\"article\")[articleSize].getElementsByTagName(\"div\");\n",
      "var componentContainer = document.getElementsByClassName(\"article\")[articleSize].getElementsByTagName(\"div\");\n",
      "var newElement = document.createElement('div');\n",
      "var newElement = document.createElement('div');\n",
      "var newElement = document.createElement('div');\n",
      "var newElement = document.createElement('div');\n",
      "$(\".removeentrySubs\").click(function() {\t$(\".entrySubs\").css(\"display\",\"none\");\t});\n",
      "googletag.cmd.push(function() { googletag.display('div-gpt-ad-1597380352871-0'); });\n",
      "googletag.cmd.push(function() { googletag.display('div-gpt-ad-1597380352871-0'); });\n",
      "googletag.cmd.push(function() { googletag.display('div-gpt-ad-1597380352871-0'); });\n",
      "googletag.cmd.push(function() { googletag.display('div-gpt-ad-1597380352871-0'); });\n",
      "googletag.cmd.push(function() { googletag.display('div-gpt-ad-1597380352871-0'); });\n",
      "googletag.cmd.push(function() { googletag.display('div-gpt-ad-1597380352871-0'); });\n",
      "googletag.cmd.push(function() { googletag.display('div-gpt-ad-1597380352871-0'); });\n",
      "googletag.cmd.push(function() { googletag.display('div-gpt-ad-1597380352871-0'); });\n",
      "googletag.cmd.push(function() { googletag.display('div-gpt-ad-1597380352871-0'); });\n",
      "googletag.cmd.push(function() { googletag.display('div-gpt-ad-1597380352871-0'); });\n",
      "googletag.cmd.push(function() { googletag.display('div-gpt-ad-1597380352871-0'); });\n",
      "googletag.cmd.push(function() { googletag.display('div-gpt-ad-1597380352871-0'); });\n",
      "googletag.cmd.push(function() { googletag.display('div-gpt-ad-1597380352871-0'); });\n",
      "googletag.cmd.push(function() { googletag.display('div-gpt-ad-1597380352871-0'); });\n",
      "googletag.cmd.push(function() { googletag.display('div-gpt-ad-1597380352871-0'); });\n",
      "googletag.cmd.push(function() { googletag.display('div-gpt-ad-1597380352871-0'); });\n",
      "googletag.cmd.push(function() { googletag.display('div-gpt-ad-1597380352871-0'); });\n",
      "googletag.cmd.push(function() { googletag.display('div-gpt-ad-1597380352871-0'); });\n",
      "$('*[id^=\"content-body\"] .also-view-text-cont p').click(function () {\n",
      "var EditAdvtFillerURL = \"https://www.thehindu.com/news/national/recommendationfeed/\";\n",
      "\"url\": \"https://www.thehindu.com/news/national/three-indian-companies-get-licence-to-manufacture-nasas-ventilators-for-covid-19-patients/article31708809.ece\",\n",
      "\"url\": \"https://www.thehindu.com/news/national/three-indian-companies-get-licence-to-manufacture-nasas-ventilators-for-covid-19-patients/article31708809.ece\",\n",
      "\"url\": \"https://www.thehindu.com/news/national/three-indian-companies-get-licence-to-manufacture-nasas-ventilators-for-covid-19-patients/article31708809.ece\",\n",
      "\n",
      "Keywords:\n"
     ]
    },
    {
     "name": "stdout",
     "output_type": "stream",
     "text": [
      "var\n",
      "class\n",
      "article\n",
      "articles\n",
      "data function\n",
      "span\n",
      "div\n",
      "content\n",
      "width\n",
      "text\n",
      "style\n",
      "true\n",
      "important\n",
      "return\n",
      "returned\n",
      "returning\n",
      "document\n",
      "documents\n",
      "script\n",
      "font\n",
      "http\n",
      "https\n",
      "window\n",
      "windows\n",
      "display\n",
      "displayed\n",
      "background\n",
      "url\n",
      "new\n",
      "news\n",
      "color\n"
     ]
    }
   ],
   "source": [
    "text = requests.get('https://www.thehindu.com/news/national/three-indian-companies-get-licence-to-manufacture-nasas-ventilators-for-covid-19-patients/article31708809.ece').text\n",
    "\n",
    "print('Summary:')\n",
    "print(summarize(text, ratio=0.01))\n",
    "\n",
    "print('\\nKeywords:')\n",
    "print(keywords(text, ratio=0.01))"
   ]
  },
  {
   "cell_type": "code",
   "execution_count": 17,
   "metadata": {},
   "outputs": [
    {
     "name": "stdout",
     "output_type": "stream",
     "text": [
      "Collecting sumy\n",
      "  Downloading sumy-0.8.1-py2.py3-none-any.whl (83 kB)\n",
      "Collecting pycountry>=18.2.23\n",
      "  Downloading pycountry-20.7.3.tar.gz (10.1 MB)\n",
      "Requirement already satisfied: nltk>=3.0.2 in d:\\anaconda3\\lib\\site-packages (from sumy) (3.4)\n",
      "Collecting breadability>=0.1.20\n",
      "  Downloading breadability-0.1.20.tar.gz (32 kB)\n",
      "Requirement already satisfied: requests>=2.7.0 in d:\\anaconda3\\lib\\site-packages (from sumy) (2.21.0)\n",
      "Collecting docopt<0.7,>=0.6.1\n",
      "  Downloading docopt-0.6.2.tar.gz (25 kB)\n",
      "Requirement already satisfied: six in d:\\anaconda3\\lib\\site-packages (from nltk>=3.0.2->sumy) (1.12.0)\n",
      "Requirement already satisfied: singledispatch in d:\\anaconda3\\lib\\site-packages (from nltk>=3.0.2->sumy) (3.4.0.3)\n",
      "Requirement already satisfied: chardet in d:\\anaconda3\\lib\\site-packages (from breadability>=0.1.20->sumy) (3.0.4)\n",
      "Requirement already satisfied: lxml>=2.0 in d:\\anaconda3\\lib\\site-packages (from breadability>=0.1.20->sumy) (4.2.5)\n",
      "Requirement already satisfied: idna<2.9,>=2.5 in d:\\anaconda3\\lib\\site-packages (from requests>=2.7.0->sumy) (2.8)\n",
      "Requirement already satisfied: certifi>=2017.4.17 in d:\\anaconda3\\lib\\site-packages (from requests>=2.7.0->sumy) (2020.4.5.1)\n",
      "Requirement already satisfied: urllib3<1.25,>=1.21.1 in d:\\anaconda3\\lib\\site-packages (from requests>=2.7.0->sumy) (1.24.1)\n",
      "Building wheels for collected packages: pycountry, breadability, docopt\n",
      "  Building wheel for pycountry (setup.py): started\n",
      "  Building wheel for pycountry (setup.py): finished with status 'done'\n",
      "  Created wheel for pycountry: filename=pycountry-20.7.3-py2.py3-none-any.whl size=10746871 sha256=b2b36389059b900075dc522ec5474546129c107f51bb87c02c1eb1bf7375f0a4\n",
      "  Stored in directory: c:\\users\\aayus\\appdata\\local\\pip\\cache\\wheels\\57\\e8\\3f\\120ccc1ff7541c108bc5d656e2a14c39da0d824653b62284c6\n",
      "  Building wheel for breadability (setup.py): started\n",
      "  Building wheel for breadability (setup.py): finished with status 'done'\n",
      "  Created wheel for breadability: filename=breadability-0.1.20-py2.py3-none-any.whl size=21687 sha256=ff8a3f00d45f4920d4d0fbb5d117f24fe54d6cb87f72a4d79c26af636f446067\n",
      "  Stored in directory: c:\\users\\aayus\\appdata\\local\\pip\\cache\\wheels\\d4\\bf\\51\\81d27ad638e1a6dca4f362ecc33d1e2c764b8ea7ec751b8fc1\n",
      "  Building wheel for docopt (setup.py): started\n",
      "  Building wheel for docopt (setup.py): finished with status 'done'\n",
      "  Created wheel for docopt: filename=docopt-0.6.2-py2.py3-none-any.whl size=13709 sha256=9d8d7072b0fd78638f82b5696cbdedb00a0af8d00da3d868f100eb70122888dd\n",
      "  Stored in directory: c:\\users\\aayus\\appdata\\local\\pip\\cache\\wheels\\72\\b0\\3f\\1d95f96ff986c7dfffe46ce2be4062f38ebd04b506c77c81b9\n",
      "Successfully built pycountry breadability docopt\n",
      "Installing collected packages: pycountry, docopt, breadability, sumy\n",
      "Successfully installed breadability-0.1.20 docopt-0.6.2 pycountry-20.7.3 sumy-0.8.1\n"
     ]
    },
    {
     "name": "stderr",
     "output_type": "stream",
     "text": [
      "WARNING: You are using pip version 20.1.1; however, version 20.3.3 is available.\n",
      "You should consider upgrading via the 'D:\\Anaconda3\\python.exe -m pip install --upgrade pip' command.\n"
     ]
    }
   ],
   "source": [
    "!python -m pip install sumy"
   ]
  },
  {
   "cell_type": "code",
   "execution_count": 18,
   "metadata": {},
   "outputs": [],
   "source": [
    "from __future__ import absolute_import\n",
    "from __future__ import division, print_function, unicode_literals\n",
    " \n",
    "from sumy.parsers.html import HtmlParser\n",
    "from sumy.parsers.plaintext import PlaintextParser\n",
    "from sumy.nlp.tokenizers import Tokenizer\n",
    "from sumy.summarizers.lsa import LsaSummarizer\n",
    "from sumy.nlp.stemmers import Stemmer\n",
    "from sumy.utils import get_stop_words\n",
    " \n",
    "from sumy.summarizers.luhn import LuhnSummarizer\n",
    "from sumy.summarizers.edmundson import EdmundsonSummarizer\n",
    "from sumy.summarizers.lex_rank import LexRankSummarizer"
   ]
  },
  {
   "cell_type": "code",
   "execution_count": 19,
   "metadata": {},
   "outputs": [],
   "source": [
    "\n",
    "LANGUAGE = \"english\"\n",
    "SENTENCES_COUNT = 10"
   ]
  },
  {
   "cell_type": "code",
   "execution_count": 20,
   "metadata": {},
   "outputs": [
    {
     "name": "stdout",
     "output_type": "stream",
     "text": [
      "--LsaSummarizer--\n",
      "The National Aeronautics and Space Administration (NASA) developed the ventilator specifically for coronavirus patients at its Jet Propulsion Laboratory (JLP) in Southern California.\n",
      "The JPL engineers designed the special ventilator— called VITAL — in little over a month and received ‘Emergency Use Authorization’ from the Food and Drug Administration on April 30.\n",
      "A prototype of the JPL device was successfully tested by the Human Simulation Lab in the Department of Anesthesiology, Perioperative and Pain Medicine at Mount Sinai on April 23.\n",
      "A modified design, which uses compressed air and can be deployed by a greater range of hospitals, was recently tested at the UCLA Simulation Center in Los Angeles.\n",
      "A high-fidelity lung simulator tested almost 20 different ventilator settings, representing a number of scenarios that could be seen in critically ill patients in an intensive care unit, it said.\n",
      "“VITAL performed well in simulation testing with both precise and reproducible results,” said Dr Tisha Wang, clinical chief of the UCLA Division of Pulmonary and Critical Care Medicine.\n",
      "The UCLA team commends JPL for actively contributing to the COVID-19 response and successfully addressing one of the key medical needs in the sickest group of patients,” a media statement said.\n",
      "We have been keeping you up-to-date with information on the developments in India and the world that have a bearing on our health and wellbeing, our lives and livelihoods, during these difficult times.\n",
      "As we fight disinformation and misinformation, and keep apace with the happenings, we need to commit greater resources to news gathering operations.\n",
      "We also reiterate here the promise that our team of reporters, copy editors, fact-checkers, designers, and photographers will deliver quality journalism that stays away from vested interest and political propaganda.\n"
     ]
    }
   ],
   "source": [
    "url=\"https://www.thehindu.com/news/national/three-indian-companies-get-licence-to-manufacture-nasas-ventilators-for-covid-19-patients/article31708809.ece\"\n",
    "parser = HtmlParser.from_url(url, Tokenizer(LANGUAGE))\n",
    "print (\"--LsaSummarizer--\")    \n",
    "summarizer = LsaSummarizer()\n",
    "summarizer = LsaSummarizer(Stemmer(LANGUAGE))\n",
    "summarizer.stop_words = get_stop_words(LANGUAGE)\n",
    "for sentence in summarizer(parser.document, SENTENCES_COUNT):\n",
    "    print(sentence)\n"
   ]
  },
  {
   "cell_type": "code",
   "execution_count": 21,
   "metadata": {},
   "outputs": [
    {
     "name": "stdout",
     "output_type": "stream",
     "text": [
      "--LuhnSummarizer--\n",
      "Three Indian companies have got licences from NASA to manufacture its indigenously developed ventilators for critical COVID-19 patients.\n",
      "The three Indian companies are Alpha Design Technologies Pvt Ltd, Bharat Forge Ltd and Medha Servo Drives Pvt Ltd, the space organisation said in a statement on Friday.\n",
      "A modified design, which uses compressed air and can be deployed by a greater range of hospitals, was recently tested at the UCLA Simulation Center in Los Angeles.\n",
      "The UCLA team commends JPL for actively contributing to the COVID-19 response and successfully addressing one of the key medical needs in the sickest group of patients,” a media statement said.\n",
      "Briefing We brief you on the latest and most important developments, three times a day.\n",
      "We have been keeping you up-to-date with information on the developments in India and the world that have a bearing on our health and wellbeing, our lives and livelihoods, during these difficult times.\n",
      "To enable wide dissemination of news that is in public interest, we have increased the number of articles that can be read free, and extended free trial periods.\n",
      "We promise to deliver quality journalism that stays away from vested interest and political propaganda.\n",
      "At this difficult time, it becomes even more important that we have access to information that has a bearing on our health and well-being, our lives, and livelihoods.\n",
      "We also reiterate here the promise that our team of reporters, copy editors, fact-checkers, designers, and photographers will deliver quality journalism that stays away from vested interest and political propaganda.\n"
     ]
    }
   ],
   "source": [
    "print (\"--LuhnSummarizer--\")     \n",
    "summarizer = LuhnSummarizer() \n",
    "summarizer = LuhnSummarizer(Stemmer(LANGUAGE))\n",
    "summarizer.stop_words = (\"I\", \"am\", \"the\", \"you\", \"are\", \"me\", \"is\", \"than\", \"that\", \"this\")\n",
    "for sentence in summarizer(parser.document, SENTENCES_COUNT):\n",
    "    print(sentence)"
   ]
  },
  {
   "cell_type": "code",
   "execution_count": 22,
   "metadata": {},
   "outputs": [
    {
     "name": "stdout",
     "output_type": "stream",
     "text": [
      "--EdmundsonSummarizer--\n",
      "Three Indian companies have got licences from NASA to manufacture its indigenously developed ventilators for critical COVID-19 patients.\n",
      "The three Indian companies are Alpha Design Technologies Pvt Ltd, Bharat Forge Ltd and Medha Servo Drives Pvt Ltd, the space organisation said in a statement on Friday.\n",
      "Apart from the Indian firms, 18 other companies, including eight American and three Brazilian, have been selected to manufacture the critical breathing devices.\n",
      "The National Aeronautics and Space Administration (NASA) developed the ventilator specifically for coronavirus patients at its Jet Propulsion Laboratory (JLP) in Southern California.\n",
      "The JPL engineers designed the special ventilator— called VITAL — in little over a month and received ‘Emergency Use Authorization’ from the Food and Drug Administration on April 30.\n",
      "The VITAL (Ventilator Intervention Technology Accessible Locally) equipment uses one-seventh the parts of a traditional ventilator, relying on parts already available in supply chains, the space organisation said.\n",
      "This high-pressure ventilator offers a simple, affordable option for treating critical patients while freeing up traditional ventilators for those with the most severe COVID-19 symptoms.\n",
      "Its flexible design means it also can be modified for use in field hospitals, the NASA statement read.\n",
      "“Our hope is to have this technology reach across the world and provide an additional source of solutions to deal with the on-going COVID-19 crisis,” he said.\n",
      "The UCLA team commends JPL for actively contributing to the COVID-19 response and successfully addressing one of the key medical needs in the sickest group of patients,” a media statement said.\n"
     ]
    }
   ],
   "source": [
    "print (\"--EdmundsonSummarizer--\")     \n",
    "summarizer = EdmundsonSummarizer() \n",
    "words1 = (\"economy\", \"fight\", \"trade\", \"china\")\n",
    "summarizer.bonus_words = words1\n",
    "     \n",
    "words2 = (\"another\", \"and\", \"some\", \"next\")\n",
    "summarizer.stigma_words = words2\n",
    "    \n",
    "words3 = (\"another\", \"and\", \"some\", \"next\")\n",
    "summarizer.null_words = words3\n",
    "for sentence in summarizer(parser.document, SENTENCES_COUNT):\n",
    "    print(sentence)"
   ]
  },
  {
   "cell_type": "code",
   "execution_count": 23,
   "metadata": {},
   "outputs": [
    {
     "name": "stdout",
     "output_type": "stream",
     "text": [
      "--LexRankSummarizer--\n",
      "Three Indian companies have got licences from NASA to manufacture its indigenously developed ventilators for critical COVID-19 patients.\n",
      "Its flexible design means it also can be modified for use in field hospitals, the NASA statement read.\n",
      "A prototype of the JPL device was successfully tested by the Human Simulation Lab in the Department of Anesthesiology, Perioperative and Pain Medicine at Mount Sinai on April 23.\n",
      "You have reached your limit for free articles this month.\n",
      "Subscription Benefits Include Today's Paper Find mobile-friendly version of articles from the day's newspaper in one easy-to-read list.\n",
      "Unlimited Access Enjoy reading as many articles as you wish without any limitations.\n",
      "To enable wide dissemination of news that is in public interest, we have increased the number of articles that can be read free, and extended free trial periods.\n",
      "Support Quality Journalism Your support for our journalism is invaluable.\n",
      "The Hindu has always stood for journalism that is in the public interest.\n",
      "At this difficult time, it becomes even more important that we have access to information that has a bearing on our health and well-being, our lives, and livelihoods.\n"
     ]
    }
   ],
   "source": [
    "print (\"--LexRankSummarizer--\")   \n",
    "summarizer = LexRankSummarizer()\n",
    "summarizer = LexRankSummarizer(Stemmer(LANGUAGE))\n",
    "summarizer.stop_words = (\"I\", \"am\", \"the\", \"you\", \"are\", \"me\", \"is\", \"than\", \"that\", \"this\")\n",
    "for sentence in summarizer(parser.document, SENTENCES_COUNT):\n",
    "    print(sentence)"
   ]
  },
  {
   "cell_type": "code",
   "execution_count": null,
   "metadata": {},
   "outputs": [],
   "source": []
  }
 ],
 "metadata": {
  "kernelspec": {
   "display_name": "Python 3",
   "language": "python",
   "name": "python3"
  },
  "language_info": {
   "codemirror_mode": {
    "name": "ipython",
    "version": 3
   },
   "file_extension": ".py",
   "mimetype": "text/x-python",
   "name": "python",
   "nbconvert_exporter": "python",
   "pygments_lexer": "ipython3",
   "version": "3.7.1"
  }
 },
 "nbformat": 4,
 "nbformat_minor": 4
}
